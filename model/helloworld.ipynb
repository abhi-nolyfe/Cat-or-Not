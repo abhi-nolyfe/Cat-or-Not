{
 "cells": [
  {
   "cell_type": "code",
   "execution_count": 2,
   "id": "f76724b1-850e-4b59-8bf1-4f3b7d7a5505",
   "metadata": {},
   "outputs": [],
   "source": [
    "import numpy as np\n",
    "import pandas as pd\n",
    "import matplotlib.pyplot as plt\n",
    "import random\n",
    "import tensorflow as tf\n",
    "from tensorflow.keras import datasets, layers, models\n",
    "\n",
    "import tensorflow_datasets as tfds"
   ]
  },
  {
   "cell_type": "code",
   "execution_count": null,
   "id": "eddcfc26-f39c-43ba-a589-4d12a1309444",
   "metadata": {},
   "outputs": [],
   "source": [
    "@Inproceedings (Conference){asirra-a-captcha-that-exploits-interest-aligned-manual-image-categorization,\n",
    "author = {Elson, Jeremy and Douceur, John (JD) and Howell, Jon and Saul, Jared},\n",
    "title = {Asirra: A CAPTCHA that Exploits Interest-Aligned Manual Image Categorization},\n",
    "booktitle = {Proceedings of 14th ACM Conference on Computer and Communications Security (CCS)},\n",
    "year = {2007},\n",
    "month = {October},\n",
    "publisher = {Association for Computing Machinery, Inc.},\n",
    "url = {https://www.microsoft.com/en-us/research/publication/asirra-a-captcha-that-exploits-interest-aligned-manual-image-categorization/},\n",
    "edition = {Proceedings of 14th ACM Conference on Computer and Communications Security (CCS)},\n",
    "}"
   ]
  }
 ],
 "metadata": {
  "kernelspec": {
   "display_name": "Python 3 (ipykernel)",
   "language": "python",
   "name": "python3"
  },
  "language_info": {
   "codemirror_mode": {
    "name": "ipython",
    "version": 3
   },
   "file_extension": ".py",
   "mimetype": "text/x-python",
   "name": "python",
   "nbconvert_exporter": "python",
   "pygments_lexer": "ipython3",
   "version": "3.11.0rc1"
  }
 },
 "nbformat": 4,
 "nbformat_minor": 5
}
